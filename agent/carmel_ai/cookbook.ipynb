{
 "cells": [
  {
   "cell_type": "code",
   "execution_count": 7,
   "metadata": {},
   "outputs": [],
   "source": [
    "from camel.models import ModelFactory\n",
    "from camel.types import ModelPlatformType, ModelType\n",
    "from camel.configs import ChatGPTConfig\n",
    "from camel.toolkits import MathToolkit, SearchToolkit\n",
    "from camel.agents import ChatAgent\n",
    "# Define the model, here in this case we use gpt-4o-mini\n",
    "model = ModelFactory.create(\n",
    "    model_platform=ModelPlatformType.OPENAI,\n",
    "    model_type=ModelType.GPT_4O_MINI,\n",
    "    model_config_dict=ChatGPTConfig(stream=True).as_dict(), # [Optional] the config for model\n",
    ")\n"
   ]
  },
  {
   "cell_type": "code",
   "execution_count": 10,
   "metadata": {},
   "outputs": [],
   "source": [
    "sys_msg = 'Bạn là chuyên gia tài chính có nhiều kinh nghiệm thương trường.'\n",
    "agent = ChatAgent(\n",
    "    system_message=sys_msg,\n",
    "    tools = [\n",
    "        # *MathToolkit().get_tools(),\n",
    "        # *SearchToolkit().get_tools(),\n",
    "    ],\n",
    "    model=model,\n",
    "    message_window_size=10, # [Optional] the length for chat memory\n",
    "    )"
   ]
  },
  {
   "cell_type": "code",
   "execution_count": 11,
   "metadata": {},
   "outputs": [],
   "source": [
    "# Define a user message\n",
    "usr_msg = 'so sánh lãi suất ngân hàng ACB và Vietcombank'\n",
    "\n",
    "# Sending the message to the agent\n",
    "response = agent.step(usr_msg)\n"
   ]
  },
  {
   "cell_type": "code",
   "execution_count": null,
   "metadata": {},
   "outputs": [
    {
     "data": {
      "text/plain": [
       "[BaseMessage(role_name='Assistant', role_type=<RoleType.ASSISTANT: 'assistant'>, meta_dict={}, content='Để so sánh lãi suất giữa Ngân hàng TMCP Á Châu (ACB) và Ngân hàng TMCP Ngoại Thương Việt Nam (Vietcombank), bạn cần cân nhắc một số yếu tố như:\\n\\n1. **Lãi suất gửi tiết kiệm**: Cả hai ngân hàng đều cung cấp các hình thức gửi tiết kiệm với các mức lãi suất khác nhau tùy thuộc vào kỳ hạn và số tiền gửi. Thông thường, lãi suất gửi tiết kiệm tại Vietcombank có thể cao hơn một chút so với ACB, mặc dù điều này có thể thay đổi theo thời gian và chính sách của từng ngân hàng.\\n\\n2. **Lãi suất vay tiêu dùng**: Lãi suất vay tiêu dùng cũng khác nhau giữa hai ngân hàng. Vietcombank có thể có các gói vay với lãi suất ưu đãi hơn trong một số trường hợp, nhưng ACB cũng thường xuyên đưa ra những khuyến mãi hấp dẫn để thu hút khách hàng.\\n\\n3. **Khuyến mãi và ưu đãi**: Cả ACB và Vietcombank thường xuyên có các chương trình khuyến mãi và ưu đãi cho khách hàng mới hoặc cho các loại sản phẩm tài chính nhất định. Việc theo dõi các chương trình này có thể giúp bạn chọn lựa ngân hàng phù hợp nhất với nhu cầu của mình.\\n\\n4. **Độ tin cậy và dịch vụ khách hàng**: Ngoài lãi suất, chất lượng dịch vụ và độ tin cậy của ngân hàng cũng là các yếu tố quan trọng khi so sánh. Vietcombank là một trong những ngân hàng lớn nhất tại Việt Nam, trong khi ACB cũng có uy tín và mạng lưới chi nhánh rộng rãi.\\n\\nĐể có thông tin chính xác và cập nhật nhất về lãi suất cụ thể của từng ngân hàng, bạn nên truy cập trang web chính thức của ACB và Vietcombank hoặc liên hệ trực tiếp với các chi nhánh của ngân hàng.', video_bytes=None, image_list=None, image_detail='auto', video_detail='low', parsed=None)]"
      ]
     },
     "execution_count": 13,
     "metadata": {},
     "output_type": "execute_result"
    }
   ],
   "source": [
    "response.msgs."
   ]
  },
  {
   "cell_type": "code",
   "execution_count": null,
   "metadata": {},
   "outputs": [],
   "source": [
    "print(response.msgs[0].content)"
   ]
  },
  {
   "cell_type": "code",
   "execution_count": 6,
   "metadata": {},
   "outputs": [
    {
     "name": "stdout",
     "output_type": "stream",
     "text": [
      "[{'role': 'system', 'content': 'Bạn là chuyên gia tài chính có nhiều kinh nghiệm thương trường.'}, {'role': 'user', 'content': 'số tiền tối đa mà một người có thể vay là bao nhiêu?'}, {'role': 'assistant', 'content': 'Số tiền tối đa mà một người có thể vay phụ thuộc vào nhiều yếu tố, bao gồm:\\n\\n1. **Tín dụng và lịch sử tín dụng**: Người có lịch sử tín dụng tốt hơn thường được phép vay nhiều hơn. Ngân hàng hoặc tổ chức tài chính sẽ xem xét điểm tín dụng của bạn.\\n\\n2. **Thu nhập**: Thu nhập hàng tháng của bạn cũng là một yếu tố quan trọng. Các tổ chức tài chính thường yêu cầu chứng minh thu nhập ổn định để đảm bảo khả năng trả nợ.\\n\\n3. **Tỷ lệ nợ so với thu nhập (DTI)**: Tỷ lệ nợ so với thu nhập là tỷ lệ phần trăm tổng số nợ hàng tháng so với thu nhập hàng tháng. Nhiều tổ chức tài chính sẽ không cho vay nếu DTI của bạn vượt quá một mức nhất định (thường là 36-43%).\\n\\n4. **Mục đích vay**: Mục đích vay (vay để mua nhà, mua xe, tiêu dùng, v.v.) cũng có thể ảnh hưởng đến số tiền cho vay.\\n\\n5. **Tài sản đảm bảo**: Nếu bạn đang vay tiền với tài sản đảm bảo (ví dụ: vay thế chấp), bạn có thể vay nhiều hơn so với vay không có đảm bảo.\\n\\n6. **Chính sách vay của tổ chức tài chính**: Mỗi ngân hàng và tổ chức tín dụng có những chính sách khác nhau về số tiền tối đa có thể cho vay.\\n\\nVì vậy, không có một con số cụ thể nào cho số tiền tối đa mà một người có thể vay. Để biết chính xác, bạn nên liên hệ với ngân hàng hoặc tổ chức tài chính mà bạn đang quan tâm.'}, {'role': 'user', 'content': 'so sánh lãi suất ngân hàng ACB và Vietcombank'}, {'role': 'assistant', 'content': 'Lãi suất ngân hàng có thể thay đổi theo thời gian và tùy thuộc vào từng sản phẩm vay, cũng như điều kiện kinh tế chung của thị trường. Để so sánh lãi suất giữa Ngân hàng Á Châu (ACB) và Ngân hàng Ngoại Thương Việt Nam (Vietcombank), bạn cần xem xét một số yếu tố sau:\\n\\n1. **Lãi suất gửi tiết kiệm**:\\n   - **ACB**: Ngân hàng thường cung cấp các mức lãi suất ưu đãi cho các sổ tiết kiệm với kỳ hạn đa dạng, có thể từ 4% đến 7% tùy theo thời điểm và kỳ hạn.\\n   - **Vietcombank**: Lãi suất gửi tiết kiệm cũng tương tự, nhưng có thể hơi khác biệt do chính sách cạnh tranh. Mức lãi suất có thể dao động từ 4% đến 7% hoặc hơn tùy vào điều kiện thị trường.\\n\\n2. **Lãi suất cho vay**:\\n   - **ACB**: Lãi suất cho vay ở ACB có thể cạnh tranh với các mức từ 7% đến 12% cho các sản phẩm vay tiêu dùng, vay mua nhà, hoặc vay kinh doanh.\\n   - **Vietcombank**: Lãi suất cho vay tại Vietcombank cũng thường từ 7% đến 10%, tùy thuộc vào loại hình vay và thời gian vay.\\n\\n3. **Chương trình khuyến mãi**: Cả hai ngân hàng thường xuyên có các chương trình khuyến mãi với lãi suất ưu đãi cho khách hàng mới hoặc cho các sản phẩm mới ra mắt.\\n\\nĐể có thông tin chính xác và cập nhật nhất, bạn nên truy cập vào trang web chính thức của hai ngân hàng hoặc gọi điện trực tiếp đến các chi nhánh để biết thêm chi tiết về lãi suất hiện tại cho các sản phẩm cụ thể.'}]\n",
      "Retrieved context (token count: 836):\n",
      "{'role': 'system', 'content': 'Bạn là chuyên gia tài chính có nhiều kinh nghiệm thương trường.'}\n",
      "{'role': 'user', 'content': 'số tiền tối đa mà một người có thể vay là bao nhiêu?'}\n",
      "{'role': 'assistant', 'content': 'Số tiền tối đa mà một người có thể vay phụ thuộc vào nhiều yếu tố, bao gồm:\\n\\n1. **Tín dụng và lịch sử tín dụng**: Người có lịch sử tín dụng tốt hơn thường được phép vay nhiều hơn. Ngân hàng hoặc tổ chức tài chính sẽ xem xét điểm tín dụng của bạn.\\n\\n2. **Thu nhập**: Thu nhập hàng tháng của bạn cũng là một yếu tố quan trọng. Các tổ chức tài chính thường yêu cầu chứng minh thu nhập ổn định để đảm bảo khả năng trả nợ.\\n\\n3. **Tỷ lệ nợ so với thu nhập (DTI)**: Tỷ lệ nợ so với thu nhập là tỷ lệ phần trăm tổng số nợ hàng tháng so với thu nhập hàng tháng. Nhiều tổ chức tài chính sẽ không cho vay nếu DTI của bạn vượt quá một mức nhất định (thường là 36-43%).\\n\\n4. **Mục đích vay**: Mục đích vay (vay để mua nhà, mua xe, tiêu dùng, v.v.) cũng có thể ảnh hưởng đến số tiền cho vay.\\n\\n5. **Tài sản đảm bảo**: Nếu bạn đang vay tiền với tài sản đảm bảo (ví dụ: vay thế chấp), bạn có thể vay nhiều hơn so với vay không có đảm bảo.\\n\\n6. **Chính sách vay của tổ chức tài chính**: Mỗi ngân hàng và tổ chức tín dụng có những chính sách khác nhau về số tiền tối đa có thể cho vay.\\n\\nVì vậy, không có một con số cụ thể nào cho số tiền tối đa mà một người có thể vay. Để biết chính xác, bạn nên liên hệ với ngân hàng hoặc tổ chức tài chính mà bạn đang quan tâm.'}\n",
      "{'role': 'user', 'content': 'so sánh lãi suất ngân hàng ACB và Vietcombank'}\n",
      "{'role': 'assistant', 'content': 'Lãi suất ngân hàng có thể thay đổi theo thời gian và tùy thuộc vào từng sản phẩm vay, cũng như điều kiện kinh tế chung của thị trường. Để so sánh lãi suất giữa Ngân hàng Á Châu (ACB) và Ngân hàng Ngoại Thương Việt Nam (Vietcombank), bạn cần xem xét một số yếu tố sau:\\n\\n1. **Lãi suất gửi tiết kiệm**:\\n   - **ACB**: Ngân hàng thường cung cấp các mức lãi suất ưu đãi cho các sổ tiết kiệm với kỳ hạn đa dạng, có thể từ 4% đến 7% tùy theo thời điểm và kỳ hạn.\\n   - **Vietcombank**: Lãi suất gửi tiết kiệm cũng tương tự, nhưng có thể hơi khác biệt do chính sách cạnh tranh. Mức lãi suất có thể dao động từ 4% đến 7% hoặc hơn tùy vào điều kiện thị trường.\\n\\n2. **Lãi suất cho vay**:\\n   - **ACB**: Lãi suất cho vay ở ACB có thể cạnh tranh với các mức từ 7% đến 12% cho các sản phẩm vay tiêu dùng, vay mua nhà, hoặc vay kinh doanh.\\n   - **Vietcombank**: Lãi suất cho vay tại Vietcombank cũng thường từ 7% đến 10%, tùy thuộc vào loại hình vay và thời gian vay.\\n\\n3. **Chương trình khuyến mãi**: Cả hai ngân hàng thường xuyên có các chương trình khuyến mãi với lãi suất ưu đãi cho khách hàng mới hoặc cho các sản phẩm mới ra mắt.\\n\\nĐể có thông tin chính xác và cập nhật nhất, bạn nên truy cập vào trang web chính thức của hai ngân hàng hoặc gọi điện trực tiếp đến các chi nhánh để biết thêm chi tiết về lãi suất hiện tại cho các sản phẩm cụ thể.'}\n"
     ]
    }
   ],
   "source": [
    "\n",
    "# Get context for the agent\n",
    "context, token_count = agent.memory.get_context()\n",
    "\n",
    "print(context)\n",
    "print(f\"Retrieved context (token count: {token_count}):\")\n",
    "for message in context:\n",
    "    print(f\"{message}\")"
   ]
  }
 ],
 "metadata": {
  "kernelspec": {
   "display_name": ".venv",
   "language": "python",
   "name": "python3"
  },
  "language_info": {
   "codemirror_mode": {
    "name": "ipython",
    "version": 3
   },
   "file_extension": ".py",
   "mimetype": "text/x-python",
   "name": "python",
   "nbconvert_exporter": "python",
   "pygments_lexer": "ipython3",
   "version": "3.10.11"
  }
 },
 "nbformat": 4,
 "nbformat_minor": 2
}
