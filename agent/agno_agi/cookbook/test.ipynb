{
 "cells": [
  {
   "cell_type": "code",
   "execution_count": 25,
   "metadata": {},
   "outputs": [],
   "source": [
    "from agno.agent import Agent, AgentMemory\n",
    "from agno.models.openai import OpenAIChat\n",
    "\n",
    "from agno.storage.agent.sqlite import SqliteAgentStorage\n",
    "from agno.memory.db.postgres import PgMemoryDb\n",
    "from agno.memory.db.sqlite import SqliteMemoryDb\n",
    "agent = Agent(\n",
    "    model=OpenAIChat(id=\"gpt-4o-mini\"),\n",
    "    # Set add_history_to_messages=true to add the previous chat history to the messages sent to the Model.\n",
    "    storage=SqliteAgentStorage(table_name=\"agent_sessions\", db_file=\"tmp/agent_storage.db\"),\n",
    "    # Store the memories and summary in a database\n",
    "    memory=AgentMemory(db=SqliteMemoryDb(table_name=\"agent_memories\", db_file=\"tmp/agent_memories.db\"),create_user_memories=True, create_session_summary=True),\n",
    "    # Set add_history_to_messages=true to add the previous chat history to the messages sent to the Model.\n",
    "\n",
    "    add_history_to_messages=True,\n",
    "    # Number of historical responses to add to the messages.\n",
    "\n",
    "    description=\"Bạn là chuyên gia đầu tư\",\n",
    "    \n",
    ")\n"
   ]
  },
  {
   "cell_type": "code",
   "execution_count": 26,
   "metadata": {},
   "outputs": [
    {
     "name": "stdout",
     "output_type": "stream",
     "text": [
      "None\n"
     ]
    }
   ],
   "source": [
    "print(agent.session_id)\n"
   ]
  },
  {
   "cell_type": "code",
   "execution_count": 27,
   "metadata": {},
   "outputs": [
    {
     "name": "stdout",
     "output_type": "stream",
     "text": [
      "Cảm ơn bạn đã chia sẻ thông tin! Với gia đình có 4 người, bạn có thể muốn tìm hiểu về các phương án đầu tư hoặc tài chính nào để hỗ trợ gia đình của mình. Bạn cần tư vấn về lĩnh vực nào cụ thể không?"
     ]
    }
   ],
   "source": [
    "response = agent.run(\"nhà tôi có 4 người\", stream=True) \n",
    "for chunk in response:\n",
    "    print(chunk.content, end=\"\", flush=True)   \n"
   ]
  },
  {
   "cell_type": "code",
   "execution_count": 28,
   "metadata": {},
   "outputs": [
    {
     "name": "stdout",
     "output_type": "stream",
     "text": [
      "Tên của bạn là Việt. Nếu bạn cần thêm thông tin hay có câu hỏi nào khác, hãy cho tôi biết nhé!"
     ]
    }
   ],
   "source": [
    "response = agent.run(\"tên tôi là gì\", stream=True) \n",
    "for chunk in response:\n",
    "    print(chunk.content, end=\"\", flush=True)   \n",
    "# print(response.content)"
   ]
  },
  {
   "cell_type": "code",
   "execution_count": 24,
   "metadata": {},
   "outputs": [
    {
     "data": {
      "text/plain": [
       "[]"
      ]
     },
     "execution_count": 24,
     "metadata": {},
     "output_type": "execute_result"
    }
   ],
   "source": [
    "agent.memory.messages"
   ]
  },
  {
   "cell_type": "code",
   "execution_count": 29,
   "metadata": {},
   "outputs": [
    {
     "name": "stdout",
     "output_type": "stream",
     "text": [
      "[Memory(memory='The user has four family members.', id=None, topic=None, input='Người dùng có 4 người trong gia đình.'), Memory(memory=\"The user's name is Việt.\", id=None, topic=None, input='Người dùng có tên là Việt.')]\n",
      "summary=\"The user mentioned having a family of four and was interested in potential financial or investment advice to support their family. The assistant also referenced the user's name as Việt.\" topics=['family size', 'financial advice', 'investment options', 'personal information']\n"
     ]
    }
   ],
   "source": [
    "print(agent.memory.memories)\n",
    "print(agent.memory.summary)"
   ]
  },
  {
   "cell_type": "code",
   "execution_count": 28,
   "metadata": {},
   "outputs": [
    {
     "name": "stdout",
     "output_type": "stream",
     "text": [
      "[{\"role\": \"system\", \"content\": \"B\\u1ea1n l\\u00e0 chuy\\u00ean gia \\u0111\\u1ea7u t\\u01b0\"}, {\"role\": \"user\", \"content\": \"so s\\u00e1nh v\\u00e0ng v\\u00e0  BTC\"}, {\"role\": \"assistant\", \"content\": \"V\\u00e0ng v\\u00e0 Bitcoin (BTC) l\\u00e0 hai t\\u00e0i s\\u1ea3n kh\\u00e1c nhau c\\u00f3 th\\u1ec3 \\u0111\\u01b0\\u1ee3c s\\u1eed d\\u1ee5ng nh\\u01b0 n\\u01a1i l\\u01b0u tr\\u1eef gi\\u00e1 tr\\u1ecb v\\u00e0 \\u0111\\u1ea7u t\\u01b0. D\\u01b0\\u1edbi \\u0111\\u00e2y l\\u00e0 m\\u1ed9t s\\u1ed1 \\u0111i\\u1ec3m kh\\u00e1c bi\\u1ec7t v\\u00e0 t\\u01b0\\u01a1ng \\u0111\\u1ed3ng gi\\u1eefa ch\\u00fang:\\n\\n### \\u0110i\\u1ec3m gi\\u1ed1ng nhau:\\n\\n1. **L\\u01b0u tr\\u1eef gi\\u00e1 tr\\u1ecb**: C\\u1ea3 v\\u00e0ng v\\u00e0 Bitcoin \\u0111\\u1ec1u \\u0111\\u01b0\\u1ee3c coi l\\u00e0 n\\u01a1i l\\u01b0u tr\\u1eef gi\\u00e1 tr\\u1ecb, \\u0111\\u1eb7c bi\\u1ec7t trong th\\u1eddi k\\u1ef3 b\\u1ea5t \\u1ed5n kinh t\\u1ebf ho\\u1eb7c khi l\\u1ea1m ph\\u00e1t gia t\\u0103ng.\\n\\n2. **Kh\\u00e1ng l\\u1ea1m ph\\u00e1t**: C\\u1ea3 hai t\\u00e0i s\\u1ea3n n\\u00e0y th\\u01b0\\u1eddng \\u0111\\u01b0\\u1ee3c xem nh\\u01b0 l\\u00e0 c\\u00f4ng c\\u1ee5 b\\u1ea3o v\\u1ec7 ch\\u1ed1ng l\\u1ea1i l\\u1ea1m ph\\u00e1t, m\\u1eb7c d\\u00f9 c\\u00e1ch th\\u1ee9c m\\u00e0 ch\\u00fang ho\\u1ea1t \\u0111\\u1ed9ng \\u0111\\u1ec3 b\\u1ea3o v\\u1ec7 ng\\u01b0\\u1eddi \\u0111\\u1ea7u t\\u01b0 c\\u00f3 th\\u1ec3 kh\\u00e1c nhau.\\n\\n3. **Th\\u1ebf gi\\u1edbi \\u0111\\u1ea7u t\\u01b0**: C\\u1ea3 v\\u00e0ng v\\u00e0 Bitcoin \\u0111\\u1ec1u thu h\\u00fat nh\\u00e0 \\u0111\\u1ea7u t\\u01b0 v\\u00e0 c\\u00f3 s\\u1ef1 quan t\\u00e2m t\\u1eeb c\\u00e1c qu\\u1ef9 \\u0111\\u1ea7u t\\u01b0 v\\u00e0 c\\u00e1 nh\\u00e2n.\\n\\n### \\u0110i\\u1ec3m kh\\u00e1c bi\\u1ec7t:\\n\\n1. **T\\u00ednh ch\\u1ea5t v\\u1eadt l\\u00fd vs. s\\u1ed1 h\\u00f3a**: V\\u00e0ng l\\u00e0 m\\u1ed9t t\\u00e0i s\\u1ea3n v\\u1eadt l\\u00fd c\\u00f3 th\\u1ec3 \\u0111\\u01b0\\u1ee3c n\\u1eafm gi\\u1eef, trong khi Bitcoin l\\u00e0 t\\u00e0i s\\u1ea3n k\\u1ef9 thu\\u1eadt s\\u1ed1 kh\\u00f4ng th\\u1ec3 n\\u1eafm gi\\u1eef. \\u0110i\\u1ec1u n\\u00e0y c\\u00f3 t\\u00e1c \\u0111\\u1ed9ng \\u0111\\u1ebfn c\\u00e1ch th\\u1ee9c giao d\\u1ecbch v\\u00e0 l\\u01b0u tr\\u1eef.\\n\\n2. **Bi\\u1ebfn \\u0111\\u1ed9ng gi\\u00e1**: Bitcoin th\\u01b0\\u1eddng c\\u00f3 s\\u1ef1 bi\\u1ebfn \\u0111\\u1ed9ng gi\\u00e1 cao h\\u01a1n nhi\\u1ec1u so v\\u1edbi v\\u00e0ng, c\\u00f3 th\\u1ec3 t\\u0103ng ho\\u1eb7c gi\\u1ea3m m\\u1ea1nh trong th\\u1eddi gian ng\\u1eafn. V\\u00e0ng c\\u00f3 xu h\\u01b0\\u1edbng \\u1ed5n \\u0111\\u1ecbnh h\\u01a1n.\\n\\n3. **Th\\u1eddi gian t\\u1ed3n t\\u1ea1i**: V\\u00e0ng \\u0111\\u00e3 t\\u1ed3n t\\u1ea1i h\\u00e0ng thi\\u00ean ni\\u00ean k\\u1ef7 nh\\u01b0 m\\u1ed9t t\\u00e0i s\\u1ea3n ti\\u1ec1n t\\u1ec7, trong khi Bitcoin ch\\u1ec9 m\\u1edbi \\u0111\\u01b0\\u1ee3c ra m\\u1eaft v\\u00e0o n\\u0103m 2009, l\\u00e0m cho n\\u00f3 c\\u00f2n m\\u1edbi v\\u00e0 ch\\u01b0a c\\u00f3 nhi\\u1ec1u l\\u1ecbch s\\u1eed \\u0111\\u1ec3 ph\\u00e2n t\\u00edch.\\n\\n4. **Cung c\\u1ea5p**: M\\u1ecf v\\u00e0ng c\\u00f3 th\\u1ec3 khai th\\u00e1c v\\u00e0 s\\u1ea3n xu\\u1ea5t th\\u00eam v\\u00e0ng, trong khi Bitcoin c\\u00f3 m\\u1ed9t gi\\u1edbi h\\u1ea1n c\\u1ed1 \\u0111\\u1ecbnh - ch\\u1ec9 c\\u00f3 21 tri\\u1ec7u BTC s\\u1ebd \\u0111\\u01b0\\u1ee3c khai th\\u00e1c. \\u0110i\\u1ec1u n\\u00e0y t\\u1ea1o ra s\\u1ef1 khan hi\\u1ebfm cho Bitcoin.\\n\\n5. **S\\u1eed d\\u1ee5ng trong giao d\\u1ecbch**: V\\u00e0ng ch\\u1ee7 y\\u1ebfu \\u0111\\u01b0\\u1ee3c s\\u1eed d\\u1ee5ng nh\\u01b0 t\\u00e0i s\\u1ea3n d\\u1ef1 tr\\u1eef v\\u00e0 trang s\\u1ee9c, trong khi Bitcoin c\\u00f3 th\\u1ec3 \\u0111\\u01b0\\u1ee3c s\\u1eed d\\u1ee5ng cho c\\u00e1c giao d\\u1ecbch k\\u1ef9 thu\\u1eadt s\\u1ed1 v\\u00e0 trong m\\u1ed9t s\\u1ed1 tr\\u01b0\\u1eddng h\\u1ee3p, nh\\u01b0 m\\u1ed9t ph\\u01b0\\u01a1ng ti\\u1ec7n thanh to\\u00e1n.\\n\\n6. **Lu\\u1eadt ph\\u00e1p v\\u00e0 quy \\u0111\\u1ecbnh**: V\\u00e0ng th\\u01b0\\u1eddng \\u0111\\u01b0\\u1ee3c qu\\u1ea3n l\\u00fd t\\u1ed1t h\\u01a1n v\\u00e0 c\\u00f3 c\\u00e1c quy \\u0111\\u1ecbnh r\\u00f5 r\\u00e0ng trong nhi\\u1ec1u qu\\u1ed1c gia, trong khi Bitcoin v\\u00e0 c\\u00e1c lo\\u1ea1i ti\\u1ec1n m\\u00e3 h\\u00f3a kh\\u00e1c v\\u1eabn \\u0111ang trong qu\\u00e1 tr\\u00ecnh x\\u00e1c l\\u1eadp quy \\u0111\\u1ecbnh v\\u00e0 ph\\u00e1p l\\u00fd.\\n\\n### K\\u1ebft lu\\u1eadn:\\n\\nVi\\u1ec7c l\\u1ef1a ch\\u1ecdn gi\\u1eefa v\\u00e0ng v\\u00e0 Bitcoin ph\\u1ee5 thu\\u1ed9c v\\u00e0o m\\u1ee5c ti\\u00eau \\u0111\\u1ea7u t\\u01b0, kh\\u1ea9u v\\u1ecb r\\u1ee7i ro v\\u00e0 th\\u1eddi gian \\u0111\\u1ea7u t\\u01b0 c\\u1ee7a m\\u1ed7i ng\\u01b0\\u1eddi. M\\u1ed9t s\\u1ed1 nh\\u00e0 \\u0111\\u1ea7u t\\u01b0 ch\\u1ecdn c\\u00e1ch c\\u00e2n b\\u1eb1ng c\\u1ea3 hai t\\u00e0i s\\u1ea3n trong danh m\\u1ee5c \\u0111\\u1ea7u t\\u01b0 c\\u1ee7a m\\u00ecnh \\u0111\\u1ec3 t\\u1eadn d\\u1ee5ng l\\u1ee3i \\u00edch c\\u1ee7a c\\u1ea3 hai.\"}]\n"
     ]
    }
   ],
   "source": [
    "import json\n",
    "def print_chat_history(agent):\n",
    "    # -*- Print history\n",
    "    print(json.dumps([m.model_dump(include={\"role\", \"content\"}) for m in agent.memory.messages]))\n",
    "print_chat_history(agent)\n"
   ]
  },
  {
   "cell_type": "code",
   "execution_count": 27,
   "metadata": {},
   "outputs": [
    {
     "name": "stdout",
     "output_type": "stream",
     "text": [
      "('19d39e48-ac5e-42e7-874c-476c8c87824a', None, '{\"update_system_message_on_change\": false, \"create_session_summary\": false, \"update_session_summary_after_run\": true, \"create_user_memories\": false, \"update_user_memories_after_run\": true, \"messages\": [{\"content\": \"B\\\\u1ea1n l\\\\u00e0 chuy\\\\u00ean gia \\\\u0111\\\\u1ea7u t\\\\u01b0\", \"from_history\": false, \"stop_after_tool_call\": false, \"role\": \"system\", \"created_at\": 1743701656}, {\"content\": \"so s\\\\u00e1nh v\\\\u00e0ng v\\\\u00e0  BTC\", \"from_history\": false, \"stop_after_tool_call\": false, \"role\": \"user\", \"created_at\": 1743701656}, {\"content\": \"V\\\\u00e0ng v\\\\u00e0 Bitcoin (BTC) l\\\\u00e0 hai t\\\\u00e0i s\\\\u1ea3n kh\\\\u00e1c nhau c\\\\u00f3 th\\\\u1ec3 \\\\u0111\\\\u01b0\\\\u1ee3c s\\\\u1eed d\\\\u1ee5ng nh\\\\u01b0 n\\\\u01a1i l\\\\u01b0u tr\\\\u1eef gi\\\\u00e1 tr\\\\u1ecb v\\\\u00e0 \\\\u0111\\\\u1ea7u t\\\\u01b0. D\\\\u01b0\\\\u1edbi \\\\u0111\\\\u00e2y l\\\\u00e0 m\\\\u1ed9t s\\\\u1ed1 \\\\u0111i\\\\u1ec3m kh\\\\u00e1c bi\\\\u1ec7t v\\\\u00e0 t\\\\u01b0\\\\u01a1ng \\\\u0111\\\\u1ed3ng gi\\\\u1eefa ch\\\\u00fang:\\\\n\\\\n### \\\\u0110i\\\\u1ec3m gi\\\\u1ed1ng nhau:\\\\n\\\\n1. **L\\\\u01b0u tr\\\\u1eef gi\\\\u00e1 tr\\\\u1ecb**: C\\\\u1ea3 v\\\\u00e0ng v\\\\u00e0 Bitcoin \\\\u0111\\\\u1ec1u \\\\u0111\\\\u01b0\\\\u1ee3c coi l\\\\u00e0 n\\\\u01a1i l\\\\u01b0u tr\\\\u1eef gi\\\\u00e1 tr\\\\u1ecb, \\\\u0111\\\\u1eb7c bi\\\\u1ec7t trong th\\\\u1eddi k\\\\u1ef3 b\\\\u1ea5t \\\\u1ed5n kinh t\\\\u1ebf ho\\\\u1eb7c khi l\\\\u1ea1m ph\\\\u00e1t gia t\\\\u0103ng.\\\\n\\\\n2. **Kh\\\\u00e1ng l\\\\u1ea1m ph\\\\u00e1t**: C\\\\u1ea3 hai t\\\\u00e0i s\\\\u1ea3n n\\\\u00e0y th\\\\u01b0\\\\u1eddng \\\\u0111\\\\u01b0\\\\u1ee3c xem nh\\\\u01b0 l\\\\u00e0 c\\\\u00f4ng c\\\\u1ee5 b\\\\u1ea3o v\\\\u1ec7 ch\\\\u1ed1ng l\\\\u1ea1i l\\\\u1ea1m ph\\\\u00e1t, m\\\\u1eb7c d\\\\u00f9 c\\\\u00e1ch th\\\\u1ee9c m\\\\u00e0 ch\\\\u00fang ho\\\\u1ea1t \\\\u0111\\\\u1ed9ng \\\\u0111\\\\u1ec3 b\\\\u1ea3o v\\\\u1ec7 ng\\\\u01b0\\\\u1eddi \\\\u0111\\\\u1ea7u t\\\\u01b0 c\\\\u00f3 th\\\\u1ec3 kh\\\\u00e1c nhau.\\\\n\\\\n3. **Th\\\\u1ebf gi\\\\u1edbi \\\\u0111\\\\u1ea7u t\\\\u01b0**: C\\\\u1ea3 v\\\\u00e0ng v\\\\u00e0 Bitcoin \\\\u0111\\\\u1ec1u thu h\\\\u00fat nh\\\\u00e0 \\\\u0111\\\\u1ea7u t\\\\u01b0 v\\\\u00e0 c\\\\u00f3 s\\\\u1ef1 quan t\\\\u00e2m t\\\\u1eeb c\\\\u00e1c qu\\\\u1ef9 \\\\u0111\\\\u1ea7u t\\\\u01b0 v\\\\u00e0 c\\\\u00e1 nh\\\\u00e2n.\\\\n\\\\n### \\\\u0110i\\\\u1ec3m kh\\\\u00e1c bi\\\\u1ec7t:\\\\n\\\\n1. **T\\\\u00ednh ch\\\\u1ea5t v\\\\u1eadt l\\\\u00fd vs. s\\\\u1ed1 h\\\\u00f3a**: V\\\\u00e0ng l\\\\u00e0 m\\\\u1ed9t t\\\\u00e0i s\\\\u1ea3n v\\\\u1eadt l\\\\u00fd c\\\\u00f3 th\\\\u1ec3 \\\\u0111\\\\u01b0\\\\u1ee3c n\\\\u1eafm gi\\\\u1eef, trong khi Bitcoin l\\\\u00e0 t\\\\u00e0i s\\\\u1ea3n k\\\\u1ef9 thu\\\\u1eadt s\\\\u1ed1 kh\\\\u00f4ng th\\\\u1ec3 n\\\\u1eafm gi\\\\u1eef. \\\\u0110i\\\\u1ec1u n\\\\u00e0y c\\\\u00f3 t\\\\u00e1c \\\\u0111\\\\u1ed9ng \\\\u0111\\\\u1ebfn c\\\\u00e1ch th\\\\u1ee9c giao d\\\\u1ecbch v\\\\u00e0 l\\\\u01b0u tr\\\\u1eef.\\\\n\\\\n2. **Bi\\\\u1ebfn \\\\u0111\\\\u1ed9ng gi\\\\u00e1**: Bitcoin th\\\\u01b0\\\\u1eddng c\\\\u00f3 s\\\\u1ef1 bi\\\\u1ebfn \\\\u0111\\\\u1ed9ng gi\\\\u00e1 cao h\\\\u01a1n nhi\\\\u1ec1u so v\\\\u1edbi v\\\\u00e0ng, c\\\\u00f3 th\\\\u1ec3 t\\\\u0103ng ho\\\\u1eb7c gi\\\\u1ea3m m\\\\u1ea1nh trong th\\\\u1eddi gian ng\\\\u1eafn. V\\\\u00e0ng c\\\\u00f3 xu h\\\\u01b0\\\\u1edbng \\\\u1ed5n \\\\u0111\\\\u1ecbnh h\\\\u01a1n.\\\\n\\\\n3. **Th\\\\u1eddi gian t\\\\u1ed3n t\\\\u1ea1i**: V\\\\u00e0ng \\\\u0111\\\\u00e3 t\\\\u1ed3n t\\\\u1ea1i h\\\\u00e0ng thi\\\\u00ean ni\\\\u00ean k\\\\u1ef7 nh\\\\u01b0 m\\\\u1ed9t t\\\\u00e0i s\\\\u1ea3n ti\\\\u1ec1n t\\\\u1ec7, trong khi Bitcoin ch\\\\u1ec9 m\\\\u1edbi \\\\u0111\\\\u01b0\\\\u1ee3c ra m\\\\u1eaft v\\\\u00e0o n\\\\u0103m 2009, l\\\\u00e0m cho n\\\\u00f3 c\\\\u00f2n m\\\\u1edbi v\\\\u00e0 ch\\\\u01b0a c\\\\u00f3 nhi\\\\u1ec1u l\\\\u1ecbch s\\\\u1eed \\\\u0111\\\\u1ec3 ph\\\\u00e2n t\\\\u00edch.\\\\n\\\\n4. **Cung c\\\\u1ea5p**: M\\\\u1ecf v\\\\u00e0ng c\\\\u00f3 th\\\\u1ec3 khai th\\\\u00e1c v\\\\u00e0 s\\\\u1ea3n xu\\\\u1ea5t th\\\\u00eam v\\\\u00e0ng, trong khi Bitcoin c\\\\u00f3 m\\\\u1ed9t gi\\\\u1edbi h\\\\u1ea1n c\\\\u1ed1 \\\\u0111\\\\u1ecbnh - ch\\\\u1ec9 c\\\\u00f3 21 tri\\\\u1ec7u BTC s\\\\u1ebd \\\\u0111\\\\u01b0\\\\u1ee3c khai th\\\\u00e1c. \\\\u0110i\\\\u1ec1u n\\\\u00e0y t\\\\u1ea1o ra s\\\\u1ef1 khan hi\\\\u1ebfm cho Bitcoin.\\\\n\\\\n5. **S\\\\u1eed d\\\\u1ee5ng trong giao d\\\\u1ecbch**: V\\\\u00e0ng ch\\\\u1ee7 y\\\\u1ebfu \\\\u0111\\\\u01b0\\\\u1ee3c s\\\\u1eed d\\\\u1ee5ng nh\\\\u01b0 t\\\\u00e0i s\\\\u1ea3n d\\\\u1ef1 tr\\\\u1eef v\\\\u00e0 trang s\\\\u1ee9c, trong khi Bitcoin c\\\\u00f3 th\\\\u1ec3 \\\\u0111\\\\u01b0\\\\u1ee3c s\\\\u1eed d\\\\u1ee5ng cho c\\\\u00e1c giao d\\\\u1ecbch k\\\\u1ef9 thu\\\\u1eadt s\\\\u1ed1 v\\\\u00e0 trong m\\\\u1ed9t s\\\\u1ed1 tr\\\\u01b0\\\\u1eddng h\\\\u1ee3p, nh\\\\u01b0 m\\\\u1ed9t ph\\\\u01b0\\\\u01a1ng ti\\\\u1ec7n thanh to\\\\u00e1n.\\\\n\\\\n6. **Lu\\\\u1eadt ph\\\\u00e1p v\\\\u00e0 quy \\\\u0111\\\\u1ecbnh**: V\\\\u00e0ng th\\\\u01b0\\\\u1eddng \\\\u0111\\\\u01b0\\\\u1ee3c qu\\\\u1ea3n l\\\\u00fd t\\\\u1ed1t h\\\\u01a1n v\\\\u00e0 c\\\\u00f3 c\\\\u00e1c quy \\\\u0111\\\\u1ecbnh r\\\\u00f5 r\\\\u00e0ng trong nhi\\\\u1ec1u qu\\\\u1ed1c gia, trong khi Bitcoin v\\\\u00e0 c\\\\u00e1c lo\\\\u1ea1i ti\\\\u1ec1n m\\\\u00e3 h\\\\u00f3a kh\\\\u00e1c v\\\\u1eabn \\\\u0111ang trong qu\\\\u00e1 tr\\\\u00ecnh x\\\\u00e1c l\\\\u1eadp quy \\\\u0111\\\\u1ecbnh v\\\\u00e0 ph\\\\u00e1p l\\\\u00fd.\\\\n\\\\n### K\\\\u1ebft lu\\\\u1eadn:\\\\n\\\\nVi\\\\u1ec7c l\\\\u1ef1a ch\\\\u1ecdn gi\\\\u1eefa v\\\\u00e0ng v\\\\u00e0 Bitcoin ph\\\\u1ee5 thu\\\\u1ed9c v\\\\u00e0o m\\\\u1ee5c ti\\\\u00eau \\\\u0111\\\\u1ea7u t\\\\u01b0, kh\\\\u1ea9u v\\\\u1ecb r\\\\u1ee7i ro v\\\\u00e0 th\\\\u1eddi gian \\\\u0111\\\\u1ea7u t\\\\u01b0 c\\\\u1ee7a m\\\\u1ed7i ng\\\\u01b0\\\\u1eddi. M\\\\u1ed9t s\\\\u1ed1 nh\\\\u00e0 \\\\u0111\\\\u1ea7u t\\\\u01b0 ch\\\\u1ecdn c\\\\u00e1ch c\\\\u00e2n b\\\\u1eb1ng c\\\\u1ea3 hai t\\\\u00e0i s\\\\u1ea3n trong danh m\\\\u1ee5c \\\\u0111\\\\u1ea7u t\\\\u01b0 c\\\\u1ee7a m\\\\u00ecnh \\\\u0111\\\\u1ec3 t\\\\u1eadn d\\\\u1ee5ng l\\\\u1ee3i \\\\u00edch c\\\\u1ee7a c\\\\u1ea3 hai.\", \"from_history\": false, \"stop_after_tool_call\": false, \"role\": \"assistant\", \"metrics\": {\"input_tokens\": 24, \"output_tokens\": 584, \"total_tokens\": 608, \"prompt_tokens\": 24, \"completion_tokens\": 584, \"prompt_tokens_details\": {\"audio_tokens\": 0, \"cached_tokens\": 0}, \"completion_tokens_details\": {\"accepted_prediction_tokens\": 0, \"audio_tokens\": 0, \"reasoning_tokens\": 0, \"rejected_prediction_tokens\": 0}, \"time\": 10.988711700000067}, \"created_at\": 1743701656}], \"runs\": [{\"message\": {\"content\": \"so s\\\\u00e1nh v\\\\u00e0ng v\\\\u00e0  BTC\", \"from_history\": false, \"stop_after_tool_call\": false, \"role\": \"user\", \"created_at\": 1743701656}, \"response\": {\"content\": \"V\\\\u00e0ng v\\\\u00e0 Bitcoin (BTC) l\\\\u00e0 hai t\\\\u00e0i s\\\\u1ea3n kh\\\\u00e1c nhau c\\\\u00f3 th\\\\u1ec3 \\\\u0111\\\\u01b0\\\\u1ee3c s\\\\u1eed d\\\\u1ee5ng nh\\\\u01b0 n\\\\u01a1i l\\\\u01b0u tr\\\\u1eef gi\\\\u00e1 tr\\\\u1ecb v\\\\u00e0 \\\\u0111\\\\u1ea7u t\\\\u01b0. D\\\\u01b0\\\\u1edbi \\\\u0111\\\\u00e2y l\\\\u00e0 m\\\\u1ed9t s\\\\u1ed1 \\\\u0111i\\\\u1ec3m kh\\\\u00e1c bi\\\\u1ec7t v\\\\u00e0 t\\\\u01b0\\\\u01a1ng \\\\u0111\\\\u1ed3ng gi\\\\u1eefa ch\\\\u00fang:\\\\n\\\\n### \\\\u0110i\\\\u1ec3m gi\\\\u1ed1ng nhau:\\\\n\\\\n1. **L\\\\u01b0u tr\\\\u1eef gi\\\\u00e1 tr\\\\u1ecb**: C\\\\u1ea3 v\\\\u00e0ng v\\\\u00e0 Bitcoin \\\\u0111\\\\u1ec1u \\\\u0111\\\\u01b0\\\\u1ee3c coi l\\\\u00e0 n\\\\u01a1i l\\\\u01b0u tr\\\\u1eef gi\\\\u00e1 tr\\\\u1ecb, \\\\u0111\\\\u1eb7c bi\\\\u1ec7t trong th\\\\u1eddi k\\\\u1ef3 b\\\\u1ea5t \\\\u1ed5n kinh t\\\\u1ebf ho\\\\u1eb7c khi l\\\\u1ea1m ph\\\\u00e1t gia t\\\\u0103ng.\\\\n\\\\n2. **Kh\\\\u00e1ng l\\\\u1ea1m ph\\\\u00e1t**: C\\\\u1ea3 hai t\\\\u00e0i s\\\\u1ea3n n\\\\u00e0y th\\\\u01b0\\\\u1eddng \\\\u0111\\\\u01b0\\\\u1ee3c xem nh\\\\u01b0 l\\\\u00e0 c\\\\u00f4ng c\\\\u1ee5 b\\\\u1ea3o v\\\\u1ec7 ch\\\\u1ed1ng l\\\\u1ea1i l\\\\u1ea1m ph\\\\u00e1t, m\\\\u1eb7c d\\\\u00f9 c\\\\u00e1ch th\\\\u1ee9c m\\\\u00e0 ch\\\\u00fang ho\\\\u1ea1t \\\\u0111\\\\u1ed9ng \\\\u0111\\\\u1ec3 b\\\\u1ea3o v\\\\u1ec7 ng\\\\u01b0\\\\u1eddi \\\\u0111\\\\u1ea7u t\\\\u01b0 c\\\\u00f3 th\\\\u1ec3 kh\\\\u00e1c nhau.\\\\n\\\\n3. **Th\\\\u1ebf gi\\\\u1edbi \\\\u0111\\\\u1ea7u t\\\\u01b0**: C\\\\u1ea3 v\\\\u00e0ng v\\\\u00e0 Bitcoin \\\\u0111\\\\u1ec1u thu h\\\\u00fat nh\\\\u00e0 \\\\u0111\\\\u1ea7u t\\\\u01b0 v\\\\u00e0 c\\\\u00f3 s\\\\u1ef1 quan t\\\\u00e2m t\\\\u1eeb c\\\\u00e1c qu\\\\u1ef9 \\\\u0111\\\\u1ea7u t\\\\u01b0 v\\\\u00e0 c\\\\u00e1 nh\\\\u00e2n.\\\\n\\\\n### \\\\u0110i\\\\u1ec3m kh\\\\u00e1c bi\\\\u1ec7t:\\\\n\\\\n1. **T\\\\u00ednh ch\\\\u1ea5t v\\\\u1eadt l\\\\u00fd vs. s\\\\u1ed1 h\\\\u00f3a**: V\\\\u00e0ng l\\\\u00e0 m\\\\u1ed9t t\\\\u00e0i s\\\\u1ea3n v\\\\u1eadt l\\\\u00fd c\\\\u00f3 th\\\\u1ec3 \\\\u0111\\\\u01b0\\\\u1ee3c n\\\\u1eafm gi\\\\u1eef, trong khi Bitcoin l\\\\u00e0 t\\\\u00e0i s\\\\u1ea3n k\\\\u1ef9 thu\\\\u1eadt s\\\\u1ed1 kh\\\\u00f4ng th\\\\u1ec3 n\\\\u1eafm gi\\\\u1eef. \\\\u0110i\\\\u1ec1u n\\\\u00e0y c\\\\u00f3 t\\\\u00e1c \\\\u0111\\\\u1ed9ng \\\\u0111\\\\u1ebfn c\\\\u00e1ch th\\\\u1ee9c giao d\\\\u1ecbch v\\\\u00e0 l\\\\u01b0u tr\\\\u1eef.\\\\n\\\\n2. **Bi\\\\u1ebfn \\\\u0111\\\\u1ed9ng gi\\\\u00e1**: Bitcoin th\\\\u01b0\\\\u1eddng c\\\\u00f3 s\\\\u1ef1 bi\\\\u1ebfn \\\\u0111\\\\u1ed9ng gi\\\\u00e1 cao h\\\\u01a1n nhi\\\\u1ec1u so v\\\\u1edbi v\\\\u00e0ng, c\\\\u00f3 th\\\\u1ec3 t\\\\u0103ng ho\\\\u1eb7c gi\\\\u1ea3m m\\\\u1ea1nh trong th\\\\u1eddi gian ng\\\\u1eafn. V\\\\u00e0ng c\\\\u00f3 xu h\\\\u01b0\\\\u1edbng \\\\u1ed5n \\\\u0111\\\\u1ecbnh h\\\\u01a1n.\\\\n\\\\n3. **Th\\\\u1eddi gian t\\\\u1ed3n t\\\\u1ea1i**: V\\\\u00e0ng \\\\u0111\\\\u00e3 t\\\\u1ed3n t\\\\u1ea1i h\\\\u00e0ng thi\\\\u00ean ni\\\\u00ean k\\\\u1ef7 nh\\\\u01b0 m\\\\u1ed9t t\\\\u00e0i s\\\\u1ea3n ti\\\\u1ec1n t\\\\u1ec7, trong khi Bitcoin ch\\\\u1ec9 m\\\\u1edbi \\\\u0111\\\\u01b0\\\\u1ee3c ra m\\\\u1eaft v\\\\u00e0o n\\\\u0103m 2009, l\\\\u00e0m cho n\\\\u00f3 c\\\\u00f2n m\\\\u1edbi v\\\\u00e0 ch\\\\u01b0a c\\\\u00f3 nhi\\\\u1ec1u l\\\\u1ecbch s\\\\u1eed \\\\u0111\\\\u1ec3 ph\\\\u00e2n t\\\\u00edch.\\\\n\\\\n4. **Cung c\\\\u1ea5p**: M\\\\u1ecf v\\\\u00e0ng c\\\\u00f3 th\\\\u1ec3 khai th\\\\u00e1c v\\\\u00e0 s\\\\u1ea3n xu\\\\u1ea5t th\\\\u00eam v\\\\u00e0ng, trong khi Bitcoin c\\\\u00f3 m\\\\u1ed9t gi\\\\u1edbi h\\\\u1ea1n c\\\\u1ed1 \\\\u0111\\\\u1ecbnh - ch\\\\u1ec9 c\\\\u00f3 21 tri\\\\u1ec7u BTC s\\\\u1ebd \\\\u0111\\\\u01b0\\\\u1ee3c khai th\\\\u00e1c. \\\\u0110i\\\\u1ec1u n\\\\u00e0y t\\\\u1ea1o ra s\\\\u1ef1 khan hi\\\\u1ebfm cho Bitcoin.\\\\n\\\\n5. **S\\\\u1eed d\\\\u1ee5ng trong giao d\\\\u1ecbch**: V\\\\u00e0ng ch\\\\u1ee7 y\\\\u1ebfu \\\\u0111\\\\u01b0\\\\u1ee3c s\\\\u1eed d\\\\u1ee5ng nh\\\\u01b0 t\\\\u00e0i s\\\\u1ea3n d\\\\u1ef1 tr\\\\u1eef v\\\\u00e0 trang s\\\\u1ee9c, trong khi Bitcoin c\\\\u00f3 th\\\\u1ec3 \\\\u0111\\\\u01b0\\\\u1ee3c s\\\\u1eed d\\\\u1ee5ng cho c\\\\u00e1c giao d\\\\u1ecbch k\\\\u1ef9 thu\\\\u1eadt s\\\\u1ed1 v\\\\u00e0 trong m\\\\u1ed9t s\\\\u1ed1 tr\\\\u01b0\\\\u1eddng h\\\\u1ee3p, nh\\\\u01b0 m\\\\u1ed9t ph\\\\u01b0\\\\u01a1ng ti\\\\u1ec7n thanh to\\\\u00e1n.\\\\n\\\\n6. **Lu\\\\u1eadt ph\\\\u00e1p v\\\\u00e0 quy \\\\u0111\\\\u1ecbnh**: V\\\\u00e0ng th\\\\u01b0\\\\u1eddng \\\\u0111\\\\u01b0\\\\u1ee3c qu\\\\u1ea3n l\\\\u00fd t\\\\u1ed1t h\\\\u01a1n v\\\\u00e0 c\\\\u00f3 c\\\\u00e1c quy \\\\u0111\\\\u1ecbnh r\\\\u00f5 r\\\\u00e0ng trong nhi\\\\u1ec1u qu\\\\u1ed1c gia, trong khi Bitcoin v\\\\u00e0 c\\\\u00e1c lo\\\\u1ea1i ti\\\\u1ec1n m\\\\u00e3 h\\\\u00f3a kh\\\\u00e1c v\\\\u1eabn \\\\u0111ang trong qu\\\\u00e1 tr\\\\u00ecnh x\\\\u00e1c l\\\\u1eadp quy \\\\u0111\\\\u1ecbnh v\\\\u00e0 ph\\\\u00e1p l\\\\u00fd.\\\\n\\\\n### K\\\\u1ebft lu\\\\u1eadn:\\\\n\\\\nVi\\\\u1ec7c l\\\\u1ef1a ch\\\\u1ecdn gi\\\\u1eefa v\\\\u00e0ng v\\\\u00e0 Bitcoin ph\\\\u1ee5 thu\\\\u1ed9c v\\\\u00e0o m\\\\u1ee5c ti\\\\u00eau \\\\u0111\\\\u1ea7u t\\\\u01b0, kh\\\\u1ea9u v\\\\u1ecb r\\\\u1ee7i ro v\\\\u00e0 th\\\\u1eddi gian \\\\u0111\\\\u1ea7u t\\\\u01b0 c\\\\u1ee7a m\\\\u1ed7i ng\\\\u01b0\\\\u1eddi. M\\\\u1ed9t s\\\\u1ed1 nh\\\\u00e0 \\\\u0111\\\\u1ea7u t\\\\u01b0 ch\\\\u1ecdn c\\\\u00e1ch c\\\\u00e2n b\\\\u1eb1ng c\\\\u1ea3 hai t\\\\u00e0i s\\\\u1ea3n trong danh m\\\\u1ee5c \\\\u0111\\\\u1ea7u t\\\\u01b0 c\\\\u1ee7a m\\\\u00ecnh \\\\u0111\\\\u1ec3 t\\\\u1eadn d\\\\u1ee5ng l\\\\u1ee3i \\\\u00edch c\\\\u1ee7a c\\\\u1ea3 hai.\", \"content_type\": \"str\", \"event\": \"RunResponse\", \"metrics\": {\"input_tokens\": [24], \"output_tokens\": [584], \"total_tokens\": [608], \"prompt_tokens\": [24], \"completion_tokens\": [584], \"prompt_tokens_details\": [{\"audio_tokens\": 0, \"cached_tokens\": 0}], \"completion_tokens_details\": [{\"accepted_prediction_tokens\": 0, \"audio_tokens\": 0, \"reasoning_tokens\": 0, \"rejected_prediction_tokens\": 0}], \"time\": [10.988711700000067]}, \"model\": \"gpt-4o-mini\", \"run_id\": \"9761596e-6708-4f84-bdcf-859a6bbdf35e\", \"agent_id\": \"ddb1e4d4-5207-46ab-8716-63159e503299\", \"session_id\": \"19d39e48-ac5e-42e7-874c-476c8c87824a\", \"tools\": [], \"created_at\": 1743701169, \"messages\": [{\"content\": \"B\\\\u1ea1n l\\\\u00e0 chuy\\\\u00ean gia \\\\u0111\\\\u1ea7u t\\\\u01b0\", \"from_history\": false, \"stop_after_tool_call\": false, \"role\": \"system\", \"created_at\": 1743701656}, {\"content\": \"so s\\\\u00e1nh v\\\\u00e0ng v\\\\u00e0  BTC\", \"from_history\": false, \"stop_after_tool_call\": false, \"role\": \"user\", \"created_at\": 1743701656}, {\"content\": \"V\\\\u00e0ng v\\\\u00e0 Bitcoin (BTC) l\\\\u00e0 hai t\\\\u00e0i s\\\\u1ea3n kh\\\\u00e1c nhau c\\\\u00f3 th\\\\u1ec3 \\\\u0111\\\\u01b0\\\\u1ee3c s\\\\u1eed d\\\\u1ee5ng nh\\\\u01b0 n\\\\u01a1i l\\\\u01b0u tr\\\\u1eef gi\\\\u00e1 tr\\\\u1ecb v\\\\u00e0 \\\\u0111\\\\u1ea7u t\\\\u01b0. D\\\\u01b0\\\\u1edbi \\\\u0111\\\\u00e2y l\\\\u00e0 m\\\\u1ed9t s\\\\u1ed1 \\\\u0111i\\\\u1ec3m kh\\\\u00e1c bi\\\\u1ec7t v\\\\u00e0 t\\\\u01b0\\\\u01a1ng \\\\u0111\\\\u1ed3ng gi\\\\u1eefa ch\\\\u00fang:\\\\n\\\\n### \\\\u0110i\\\\u1ec3m gi\\\\u1ed1ng nhau:\\\\n\\\\n1. **L\\\\u01b0u tr\\\\u1eef gi\\\\u00e1 tr\\\\u1ecb**: C\\\\u1ea3 v\\\\u00e0ng v\\\\u00e0 Bitcoin \\\\u0111\\\\u1ec1u \\\\u0111\\\\u01b0\\\\u1ee3c coi l\\\\u00e0 n\\\\u01a1i l\\\\u01b0u tr\\\\u1eef gi\\\\u00e1 tr\\\\u1ecb, \\\\u0111\\\\u1eb7c bi\\\\u1ec7t trong th\\\\u1eddi k\\\\u1ef3 b\\\\u1ea5t \\\\u1ed5n kinh t\\\\u1ebf ho\\\\u1eb7c khi l\\\\u1ea1m ph\\\\u00e1t gia t\\\\u0103ng.\\\\n\\\\n2. **Kh\\\\u00e1ng l\\\\u1ea1m ph\\\\u00e1t**: C\\\\u1ea3 hai t\\\\u00e0i s\\\\u1ea3n n\\\\u00e0y th\\\\u01b0\\\\u1eddng \\\\u0111\\\\u01b0\\\\u1ee3c xem nh\\\\u01b0 l\\\\u00e0 c\\\\u00f4ng c\\\\u1ee5 b\\\\u1ea3o v\\\\u1ec7 ch\\\\u1ed1ng l\\\\u1ea1i l\\\\u1ea1m ph\\\\u00e1t, m\\\\u1eb7c d\\\\u00f9 c\\\\u00e1ch th\\\\u1ee9c m\\\\u00e0 ch\\\\u00fang ho\\\\u1ea1t \\\\u0111\\\\u1ed9ng \\\\u0111\\\\u1ec3 b\\\\u1ea3o v\\\\u1ec7 ng\\\\u01b0\\\\u1eddi \\\\u0111\\\\u1ea7u t\\\\u01b0 c\\\\u00f3 th\\\\u1ec3 kh\\\\u00e1c nhau.\\\\n\\\\n3. **Th\\\\u1ebf gi\\\\u1edbi \\\\u0111\\\\u1ea7u t\\\\u01b0**: C\\\\u1ea3 v\\\\u00e0ng v\\\\u00e0 Bitcoin \\\\u0111\\\\u1ec1u thu h\\\\u00fat nh\\\\u00e0 \\\\u0111\\\\u1ea7u t\\\\u01b0 v\\\\u00e0 c\\\\u00f3 s\\\\u1ef1 quan t\\\\u00e2m t\\\\u1eeb c\\\\u00e1c qu\\\\u1ef9 \\\\u0111\\\\u1ea7u t\\\\u01b0 v\\\\u00e0 c\\\\u00e1 nh\\\\u00e2n.\\\\n\\\\n### \\\\u0110i\\\\u1ec3m kh\\\\u00e1c bi\\\\u1ec7t:\\\\n\\\\n1. **T\\\\u00ednh ch\\\\u1ea5t v\\\\u1eadt l\\\\u00fd vs. s\\\\u1ed1 h\\\\u00f3a**: V\\\\u00e0ng l\\\\u00e0 m\\\\u1ed9t t\\\\u00e0i s\\\\u1ea3n v\\\\u1eadt l\\\\u00fd c\\\\u00f3 th\\\\u1ec3 \\\\u0111\\\\u01b0\\\\u1ee3c n\\\\u1eafm gi\\\\u1eef, trong khi Bitcoin l\\\\u00e0 t\\\\u00e0i s\\\\u1ea3n k\\\\u1ef9 thu\\\\u1eadt s\\\\u1ed1 kh\\\\u00f4ng th\\\\u1ec3 n\\\\u1eafm gi\\\\u1eef. \\\\u0110i\\\\u1ec1u n\\\\u00e0y c\\\\u00f3 t\\\\u00e1c \\\\u0111\\\\u1ed9ng \\\\u0111\\\\u1ebfn c\\\\u00e1ch th\\\\u1ee9c giao d\\\\u1ecbch v\\\\u00e0 l\\\\u01b0u tr\\\\u1eef.\\\\n\\\\n2. **Bi\\\\u1ebfn \\\\u0111\\\\u1ed9ng gi\\\\u00e1**: Bitcoin th\\\\u01b0\\\\u1eddng c\\\\u00f3 s\\\\u1ef1 bi\\\\u1ebfn \\\\u0111\\\\u1ed9ng gi\\\\u00e1 cao h\\\\u01a1n nhi\\\\u1ec1u so v\\\\u1edbi v\\\\u00e0ng, c\\\\u00f3 th\\\\u1ec3 t\\\\u0103ng ho\\\\u1eb7c gi\\\\u1ea3m m\\\\u1ea1nh trong th\\\\u1eddi gian ng\\\\u1eafn. V\\\\u00e0ng c\\\\u00f3 xu h\\\\u01b0\\\\u1edbng \\\\u1ed5n \\\\u0111\\\\u1ecbnh h\\\\u01a1n.\\\\n\\\\n3. **Th\\\\u1eddi gian t\\\\u1ed3n t\\\\u1ea1i**: V\\\\u00e0ng \\\\u0111\\\\u00e3 t\\\\u1ed3n t\\\\u1ea1i h\\\\u00e0ng thi\\\\u00ean ni\\\\u00ean k\\\\u1ef7 nh\\\\u01b0 m\\\\u1ed9t t\\\\u00e0i s\\\\u1ea3n ti\\\\u1ec1n t\\\\u1ec7, trong khi Bitcoin ch\\\\u1ec9 m\\\\u1edbi \\\\u0111\\\\u01b0\\\\u1ee3c ra m\\\\u1eaft v\\\\u00e0o n\\\\u0103m 2009, l\\\\u00e0m cho n\\\\u00f3 c\\\\u00f2n m\\\\u1edbi v\\\\u00e0 ch\\\\u01b0a c\\\\u00f3 nhi\\\\u1ec1u l\\\\u1ecbch s\\\\u1eed \\\\u0111\\\\u1ec3 ph\\\\u00e2n t\\\\u00edch.\\\\n\\\\n4. **Cung c\\\\u1ea5p**: M\\\\u1ecf v\\\\u00e0ng c\\\\u00f3 th\\\\u1ec3 khai th\\\\u00e1c v\\\\u00e0 s\\\\u1ea3n xu\\\\u1ea5t th\\\\u00eam v\\\\u00e0ng, trong khi Bitcoin c\\\\u00f3 m\\\\u1ed9t gi\\\\u1edbi h\\\\u1ea1n c\\\\u1ed1 \\\\u0111\\\\u1ecbnh - ch\\\\u1ec9 c\\\\u00f3 21 tri\\\\u1ec7u BTC s\\\\u1ebd \\\\u0111\\\\u01b0\\\\u1ee3c khai th\\\\u00e1c. \\\\u0110i\\\\u1ec1u n\\\\u00e0y t\\\\u1ea1o ra s\\\\u1ef1 khan hi\\\\u1ebfm cho Bitcoin.\\\\n\\\\n5. **S\\\\u1eed d\\\\u1ee5ng trong giao d\\\\u1ecbch**: V\\\\u00e0ng ch\\\\u1ee7 y\\\\u1ebfu \\\\u0111\\\\u01b0\\\\u1ee3c s\\\\u1eed d\\\\u1ee5ng nh\\\\u01b0 t\\\\u00e0i s\\\\u1ea3n d\\\\u1ef1 tr\\\\u1eef v\\\\u00e0 trang s\\\\u1ee9c, trong khi Bitcoin c\\\\u00f3 th\\\\u1ec3 \\\\u0111\\\\u01b0\\\\u1ee3c s\\\\u1eed d\\\\u1ee5ng cho c\\\\u00e1c giao d\\\\u1ecbch k\\\\u1ef9 thu\\\\u1eadt s\\\\u1ed1 v\\\\u00e0 trong m\\\\u1ed9t s\\\\u1ed1 tr\\\\u01b0\\\\u1eddng h\\\\u1ee3p, nh\\\\u01b0 m\\\\u1ed9t ph\\\\u01b0\\\\u01a1ng ti\\\\u1ec7n thanh to\\\\u00e1n.\\\\n\\\\n6. **Lu\\\\u1eadt ph\\\\u00e1p v\\\\u00e0 quy \\\\u0111\\\\u1ecbnh**: V\\\\u00e0ng th\\\\u01b0\\\\u1eddng \\\\u0111\\\\u01b0\\\\u1ee3c qu\\\\u1ea3n l\\\\u00fd t\\\\u1ed1t h\\\\u01a1n v\\\\u00e0 c\\\\u00f3 c\\\\u00e1c quy \\\\u0111\\\\u1ecbnh r\\\\u00f5 r\\\\u00e0ng trong nhi\\\\u1ec1u qu\\\\u1ed1c gia, trong khi Bitcoin v\\\\u00e0 c\\\\u00e1c lo\\\\u1ea1i ti\\\\u1ec1n m\\\\u00e3 h\\\\u00f3a kh\\\\u00e1c v\\\\u1eabn \\\\u0111ang trong qu\\\\u00e1 tr\\\\u00ecnh x\\\\u00e1c l\\\\u1eadp quy \\\\u0111\\\\u1ecbnh v\\\\u00e0 ph\\\\u00e1p l\\\\u00fd.\\\\n\\\\n### K\\\\u1ebft lu\\\\u1eadn:\\\\n\\\\nVi\\\\u1ec7c l\\\\u1ef1a ch\\\\u1ecdn gi\\\\u1eefa v\\\\u00e0ng v\\\\u00e0 Bitcoin ph\\\\u1ee5 thu\\\\u1ed9c v\\\\u00e0o m\\\\u1ee5c ti\\\\u00eau \\\\u0111\\\\u1ea7u t\\\\u01b0, kh\\\\u1ea9u v\\\\u1ecb r\\\\u1ee7i ro v\\\\u00e0 th\\\\u1eddi gian \\\\u0111\\\\u1ea7u t\\\\u01b0 c\\\\u1ee7a m\\\\u1ed7i ng\\\\u01b0\\\\u1eddi. M\\\\u1ed9t s\\\\u1ed1 nh\\\\u00e0 \\\\u0111\\\\u1ea7u t\\\\u01b0 ch\\\\u1ecdn c\\\\u00e1ch c\\\\u00e2n b\\\\u1eb1ng c\\\\u1ea3 hai t\\\\u00e0i s\\\\u1ea3n trong danh m\\\\u1ee5c \\\\u0111\\\\u1ea7u t\\\\u01b0 c\\\\u1ee7a m\\\\u00ecnh \\\\u0111\\\\u1ec3 t\\\\u1eadn d\\\\u1ee5ng l\\\\u1ee3i \\\\u00edch c\\\\u1ee7a c\\\\u1ea3 hai.\", \"from_history\": false, \"stop_after_tool_call\": false, \"role\": \"assistant\", \"metrics\": {\"input_tokens\": 24, \"output_tokens\": 584, \"total_tokens\": 608, \"prompt_tokens\": 24, \"completion_tokens\": 584, \"prompt_tokens_details\": {\"audio_tokens\": 0, \"cached_tokens\": 0}, \"completion_tokens_details\": {\"accepted_prediction_tokens\": 0, \"audio_tokens\": 0, \"reasoning_tokens\": 0, \"rejected_prediction_tokens\": 0}, \"time\": 10.988711700000067}, \"created_at\": 1743701656}]}}]}', '{\"session_metrics\": {\"input_tokens\": 24, \"output_tokens\": 584, \"total_tokens\": 608, \"prompt_tokens\": 24, \"completion_tokens\": 584, \"prompt_tokens_details\": {\"audio_tokens\": 0, \"cached_tokens\": 0}, \"completion_tokens_details\": {\"accepted_prediction_tokens\": 0, \"audio_tokens\": 0, \"reasoning_tokens\": 0, \"rejected_prediction_tokens\": 0}, \"additional_metrics\": null, \"time\": 10.988711700000067, \"time_to_first_token\": null, \"timer\": null}}', 'null', 1743701667, None, 'ddb1e4d4-5207-46ab-8716-63159e503299', '{\"agent_id\": \"ddb1e4d4-5207-46ab-8716-63159e503299\", \"model\": {\"provider\": \"OpenAI\", \"id\": \"gpt-4o-mini\", \"name\": \"OpenAIChat\", \"response_format\": \"None\"}}', None)\n"
     ]
    }
   ],
   "source": [
    "import sqlite3\n",
    "\n",
    "# Kết nối đến file SQLite (thay 'your_database.db' bằng đường dẫn tới file của bạn)\n",
    "conn = sqlite3.connect('tmp/agent_storage.db')\n",
    "\n",
    "# Tạo đối tượng cursor để thực thi truy vấn SQL\n",
    "cursor = conn.cursor()\n",
    "\n",
    "# Ví dụ truy vấn để lấy tất cả dữ liệu từ bảng 'example_table'\n",
    "cursor.execute(\"SELECT * FROM agent_sessions\")\n",
    "\n",
    "# Lấy tất cả các kết quả\n",
    "rows = cursor.fetchall()\n",
    "\n",
    "# In ra các kết quả\n",
    "for row in rows:\n",
    "    print(row)\n",
    "\n",
    "# Đóng kết nối\n",
    "conn.close()"
   ]
  }
 ],
 "metadata": {
  "kernelspec": {
   "display_name": ".venv",
   "language": "python",
   "name": "python3"
  },
  "language_info": {
   "codemirror_mode": {
    "name": "ipython",
    "version": 3
   },
   "file_extension": ".py",
   "mimetype": "text/x-python",
   "name": "python",
   "nbconvert_exporter": "python",
   "pygments_lexer": "ipython3",
   "version": "3.10.11"
  }
 },
 "nbformat": 4,
 "nbformat_minor": 2
}
